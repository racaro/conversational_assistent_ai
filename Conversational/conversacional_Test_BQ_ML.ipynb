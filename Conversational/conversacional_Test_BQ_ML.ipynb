{
 "cells": [
  {
   "cell_type": "markdown",
   "metadata": {
    "id": "06hvhSjOnKrh"
   },
   "source": [
    "### **Preparación del contexto:**\n",
    "\n",
    "*   Inicialización del entorno y el modelo generativo:\n",
    "\n",
    "*   Configura Vertex AI con el proyecto y la región especificada.\n",
    "\n",
    "* Inicializa el modelo generativo Gemini 1.5 Flash para responder a consultas complejas.\n",
    "\n",
    "\n",
    "\n",
    "### **Construye un contexto detallado para el modelo generativo, que incluye:**\n",
    "\n",
    "* La consulta del usuario.\n",
    "* Una lista de productos relevantes obtenidos de BigQuery, incluyendo:\n",
    "  1. Nombre del producto.\n",
    "  2. Descripción.\n",
    "  3. Composición.\n",
    "  4. Instrucciones de uso.\n",
    "\n",
    "### **Pregunta al modelo generativo:**\n",
    "\n",
    "Se formula una pregunta específica para el modelo, solicitando que recomiende un producto basado en los criterios del usuario.\n",
    "El modelo debe ignorar productos que no cumplan con los requisitos.\n",
    "\n",
    "### **Generación de la respuesta:**\n",
    "\n",
    "El modelo procesa el contexto y la pregunta para generar una respuesta.\n",
    "La respuesta puede incluir una recomendación, explicaciones y detalles relevantes del producto\n",
    "\n",
    "### **Mostrar la respuesta:**\n",
    "\n",
    "La respuesta generada por el modelo se imprime para que el usuario la visualice.\n",
    "Este flujo es útil para crear un asistente conversacional que proporcione recomendaciones personalizadas y justificadas, enriquecidas con datos de productos."
   ]
  },
  {
   "cell_type": "code",
   "execution_count": 4,
   "metadata": {
    "executionInfo": {
     "elapsed": 277,
     "status": "ok",
     "timestamp": 1732197532509,
     "user": {
      "displayName": "",
      "userId": ""
     },
     "user_tz": -60
    },
    "id": "CrduvfQX2KHr"
   },
   "outputs": [],
   "source": [
    "from typing import List, Optional\n",
    "from vertexai.language_models import TextEmbeddingInput, TextEmbeddingModel\n",
    "from google.cloud import aiplatform\n",
    "\n",
    "# Inicializar Vertex AI\n",
    "aiplatform.init(project=\"dataton-2024-team-13-cofares\", location=\"us-central1\")\n"
   ]
  },
  {
   "cell_type": "code",
   "execution_count": 5,
   "metadata": {
    "executionInfo": {
     "elapsed": 647,
     "status": "ok",
     "timestamp": 1732197534369,
     "user": {
      "displayName": "",
      "userId": ""
     },
     "user_tz": -60
    },
    "id": "pg9oM7oCBTso"
   },
   "outputs": [],
   "source": [
    "# Inicializa el cliente de la API de Gemini\n",
    "gemini_client = aiplatform.gapic.PredictionServiceClient()"
   ]
  },
  {
   "cell_type": "markdown",
   "metadata": {
    "id": "UsLXVz2C0AbJ"
   },
   "source": [
    "# Importaciones"
   ]
  },
  {
   "cell_type": "code",
   "execution_count": 6,
   "metadata": {
    "executionInfo": {
     "elapsed": 310,
     "status": "ok",
     "timestamp": 1732197536926,
     "user": {
      "displayName": "",
      "userId": ""
     },
     "user_tz": -60
    },
    "id": "-Mr7i4Fwz_xC"
   },
   "outputs": [],
   "source": [
    "from typing import List, Optional\n",
    "from vertexai.language_models import TextEmbeddingInput, TextEmbeddingModel\n",
    "from google.cloud import aiplatform, bigquery, storage\n",
    "import os\n",
    "import pandas as pd\n",
    "from IPython.display import display, Image as IPImage\n",
    "from vertexai.preview.generative_models import GenerativeModel, Image"
   ]
  },
  {
   "cell_type": "code",
   "execution_count": 9,
   "metadata": {
    "executionInfo": {
     "elapsed": 292,
     "status": "ok",
     "timestamp": 1732197621538,
     "user": {
      "displayName": "",
      "userId": ""
     },
     "user_tz": -60
    },
    "id": "KUb2_dMbGo71"
   },
   "outputs": [],
   "source": [
    "import vertexai"
   ]
  },
  {
   "cell_type": "code",
   "execution_count": 30,
   "metadata": {
    "colab": {
     "base_uri": "https://localhost:8080/",
     "height": 1000
    },
    "executionInfo": {
     "elapsed": 33977,
     "status": "error",
     "timestamp": 1732203651924,
     "user": {
      "displayName": "",
      "userId": ""
     },
     "user_tz": -60
    },
    "id": "JPLgPQsSDRmH",
    "outputId": "14dcb7d3-f0c5-4159-8adc-5c463eadfe1e"
   },
   "outputs": [
    {
     "name": "stdout",
     "output_type": "stream",
     "text": [
      "Usuario: querria proteccion para las relaciones sexuales con sabor a fresa\n"
     ]
    },
    {
     "ename": "ValueError",
     "evalue": "Cannot get the response text.\nCannot get the Candidate text.\nResponse candidate content has no parts (and thus no text). The candidate is likely blocked by the safety filters.\nContent:\n{}\nCandidate:\n{\n  \"finish_reason\": \"SAFETY\",\n  \"safety_ratings\": [\n    {\n      \"category\": \"HARM_CATEGORY_HATE_SPEECH\",\n      \"probability\": \"NEGLIGIBLE\",\n      \"probability_score\": 0.103515625,\n      \"severity\": \"HARM_SEVERITY_NEGLIGIBLE\",\n      \"severity_score\": 0.071777344\n    },\n    {\n      \"category\": \"HARM_CATEGORY_DANGEROUS_CONTENT\",\n      \"probability\": \"NEGLIGIBLE\",\n      \"probability_score\": 0.17675781,\n      \"severity\": \"HARM_SEVERITY_LOW\",\n      \"severity_score\": 0.22363281\n    },\n    {\n      \"category\": \"HARM_CATEGORY_HARASSMENT\",\n      \"probability\": \"NEGLIGIBLE\",\n      \"probability_score\": 0.106933594,\n      \"severity\": \"HARM_SEVERITY_NEGLIGIBLE\",\n      \"severity_score\": 0.056640625\n    },\n    {\n      \"category\": \"HARM_CATEGORY_SEXUALLY_EXPLICIT\",\n      \"probability\": \"HIGH\",\n      \"blocked\": true,\n      \"probability_score\": 0.91796875,\n      \"severity\": \"HARM_SEVERITY_MEDIUM\",\n      \"severity_score\": 0.640625\n    }\n  ]\n}\nResponse:\n{\n  \"candidates\": [\n    {\n      \"finish_reason\": \"SAFETY\",\n      \"safety_ratings\": [\n        {\n          \"category\": \"HARM_CATEGORY_HATE_SPEECH\",\n          \"probability\": \"NEGLIGIBLE\",\n          \"probability_score\": 0.103515625,\n          \"severity\": \"HARM_SEVERITY_NEGLIGIBLE\",\n          \"severity_score\": 0.071777344\n        },\n        {\n          \"category\": \"HARM_CATEGORY_DANGEROUS_CONTENT\",\n          \"probability\": \"NEGLIGIBLE\",\n          \"probability_score\": 0.17675781,\n          \"severity\": \"HARM_SEVERITY_LOW\",\n          \"severity_score\": 0.22363281\n        },\n        {\n          \"category\": \"HARM_CATEGORY_HARASSMENT\",\n          \"probability\": \"NEGLIGIBLE\",\n          \"probability_score\": 0.106933594,\n          \"severity\": \"HARM_SEVERITY_NEGLIGIBLE\",\n          \"severity_score\": 0.056640625\n        },\n        {\n          \"category\": \"HARM_CATEGORY_SEXUALLY_EXPLICIT\",\n          \"probability\": \"HIGH\",\n          \"blocked\": true,\n          \"probability_score\": 0.91796875,\n          \"severity\": \"HARM_SEVERITY_MEDIUM\",\n          \"severity_score\": 0.640625\n        }\n      ]\n    }\n  ],\n  \"usage_metadata\": {\n    \"prompt_token_count\": 1294,\n    \"total_token_count\": 1294\n  },\n  \"model_version\": \"gemini-1.5-flash-001\"\n}",
     "output_type": "error",
     "traceback": [
      "\u001b[0;31m---------------------------------------------------------------------------\u001b[0m",
      "\u001b[0;31mValueError\u001b[0m                                Traceback (most recent call last)",
      "\u001b[0;32m/usr/local/lib/python3.10/dist-packages/vertexai/generative_models/_generative_models.py\u001b[0m in \u001b[0;36mtext\u001b[0;34m(self)\u001b[0m\n\u001b[1;32m   2293\u001b[0m         \u001b[0;32mtry\u001b[0m\u001b[0;34m:\u001b[0m\u001b[0;34m\u001b[0m\u001b[0;34m\u001b[0m\u001b[0m\n\u001b[0;32m-> 2294\u001b[0;31m             \u001b[0;32mreturn\u001b[0m \u001b[0mself\u001b[0m\u001b[0;34m.\u001b[0m\u001b[0mcontent\u001b[0m\u001b[0;34m.\u001b[0m\u001b[0mtext\u001b[0m\u001b[0;34m\u001b[0m\u001b[0;34m\u001b[0m\u001b[0m\n\u001b[0m\u001b[1;32m   2295\u001b[0m         \u001b[0;32mexcept\u001b[0m \u001b[0;34m(\u001b[0m\u001b[0mValueError\u001b[0m\u001b[0;34m,\u001b[0m \u001b[0mAttributeError\u001b[0m\u001b[0;34m)\u001b[0m \u001b[0;32mas\u001b[0m \u001b[0me\u001b[0m\u001b[0;34m:\u001b[0m\u001b[0;34m\u001b[0m\u001b[0;34m\u001b[0m\u001b[0m\n",
      "\u001b[0;32m/usr/local/lib/python3.10/dist-packages/vertexai/generative_models/_generative_models.py\u001b[0m in \u001b[0;36mtext\u001b[0;34m(self)\u001b[0m\n\u001b[1;32m   2371\u001b[0m         \u001b[0;32mif\u001b[0m \u001b[0;32mnot\u001b[0m \u001b[0mself\u001b[0m\u001b[0;34m.\u001b[0m\u001b[0mparts\u001b[0m\u001b[0;34m:\u001b[0m\u001b[0;34m\u001b[0m\u001b[0;34m\u001b[0m\u001b[0m\n\u001b[0;32m-> 2372\u001b[0;31m             raise ValueError(\n\u001b[0m\u001b[1;32m   2373\u001b[0m                 \u001b[0;34m\"Response candidate content has no parts (and thus no text).\"\u001b[0m\u001b[0;34m\u001b[0m\u001b[0;34m\u001b[0m\u001b[0m\n",
      "\u001b[0;31mValueError\u001b[0m: Response candidate content has no parts (and thus no text). The candidate is likely blocked by the safety filters.\nContent:\n{}",
      "\nThe above exception was the direct cause of the following exception:\n",
      "\u001b[0;31mValueError\u001b[0m                                Traceback (most recent call last)",
      "\u001b[0;32m/usr/local/lib/python3.10/dist-packages/vertexai/generative_models/_generative_models.py\u001b[0m in \u001b[0;36mtext\u001b[0;34m(self)\u001b[0m\n\u001b[1;32m   2204\u001b[0m         \u001b[0;32mtry\u001b[0m\u001b[0;34m:\u001b[0m\u001b[0;34m\u001b[0m\u001b[0;34m\u001b[0m\u001b[0m\n\u001b[0;32m-> 2205\u001b[0;31m             \u001b[0;32mreturn\u001b[0m \u001b[0mself\u001b[0m\u001b[0;34m.\u001b[0m\u001b[0mcandidates\u001b[0m\u001b[0;34m[\u001b[0m\u001b[0;36m0\u001b[0m\u001b[0;34m]\u001b[0m\u001b[0;34m.\u001b[0m\u001b[0mtext\u001b[0m\u001b[0;34m\u001b[0m\u001b[0;34m\u001b[0m\u001b[0m\n\u001b[0m\u001b[1;32m   2206\u001b[0m         \u001b[0;32mexcept\u001b[0m \u001b[0;34m(\u001b[0m\u001b[0mValueError\u001b[0m\u001b[0;34m,\u001b[0m \u001b[0mAttributeError\u001b[0m\u001b[0;34m)\u001b[0m \u001b[0;32mas\u001b[0m \u001b[0me\u001b[0m\u001b[0;34m:\u001b[0m\u001b[0;34m\u001b[0m\u001b[0;34m\u001b[0m\u001b[0m\n",
      "\u001b[0;32m/usr/local/lib/python3.10/dist-packages/vertexai/generative_models/_generative_models.py\u001b[0m in \u001b[0;36mtext\u001b[0;34m(self)\u001b[0m\n\u001b[1;32m   2297\u001b[0m             \u001b[0;31m# The Content object does not have full information.\u001b[0m\u001b[0;34m\u001b[0m\u001b[0;34m\u001b[0m\u001b[0m\n\u001b[0;32m-> 2298\u001b[0;31m             raise ValueError(\n\u001b[0m\u001b[1;32m   2299\u001b[0m                 \u001b[0;34m\"Cannot get the Candidate text.\\n\"\u001b[0m\u001b[0;34m\u001b[0m\u001b[0;34m\u001b[0m\u001b[0m\n",
      "\u001b[0;31mValueError\u001b[0m: Cannot get the Candidate text.\nResponse candidate content has no parts (and thus no text). The candidate is likely blocked by the safety filters.\nContent:\n{}\nCandidate:\n{\n  \"finish_reason\": \"SAFETY\",\n  \"safety_ratings\": [\n    {\n      \"category\": \"HARM_CATEGORY_HATE_SPEECH\",\n      \"probability\": \"NEGLIGIBLE\",\n      \"probability_score\": 0.103515625,\n      \"severity\": \"HARM_SEVERITY_NEGLIGIBLE\",\n      \"severity_score\": 0.071777344\n    },\n    {\n      \"category\": \"HARM_CATEGORY_DANGEROUS_CONTENT\",\n      \"probability\": \"NEGLIGIBLE\",\n      \"probability_score\": 0.17675781,\n      \"severity\": \"HARM_SEVERITY_LOW\",\n      \"severity_score\": 0.22363281\n    },\n    {\n      \"category\": \"HARM_CATEGORY_HARASSMENT\",\n      \"probability\": \"NEGLIGIBLE\",\n      \"probability_score\": 0.106933594,\n      \"severity\": \"HARM_SEVERITY_NEGLIGIBLE\",\n      \"severity_score\": 0.056640625\n    },\n    {\n      \"category\": \"HARM_CATEGORY_SEXUALLY_EXPLICIT\",\n      \"probability\": \"HIGH\",\n      \"blocked\": true,\n      \"probability_score\": 0.91796875,\n      \"severity\": \"HARM_SEVERITY_MEDIUM\",\n      \"severity_score\": 0.640625\n    }\n  ]\n}",
      "\nThe above exception was the direct cause of the following exception:\n",
      "\u001b[0;31mValueError\u001b[0m                                Traceback (most recent call last)",
      "\u001b[0;32m<ipython-input-30-f1d3ed2df8ee>\u001b[0m in \u001b[0;36m<cell line: 137>\u001b[0;34m()\u001b[0m\n\u001b[1;32m    139\u001b[0m     \u001b[0;32mwhile\u001b[0m \u001b[0;32mTrue\u001b[0m\u001b[0;34m:\u001b[0m\u001b[0;34m\u001b[0m\u001b[0;34m\u001b[0m\u001b[0m\n\u001b[1;32m    140\u001b[0m         \u001b[0mquery_text\u001b[0m \u001b[0;34m=\u001b[0m \u001b[0minput\u001b[0m\u001b[0;34m(\u001b[0m\u001b[0;34m\"Usuario: \"\u001b[0m\u001b[0;34m)\u001b[0m\u001b[0;34m\u001b[0m\u001b[0;34m\u001b[0m\u001b[0m\n\u001b[0;32m--> 141\u001b[0;31m         \u001b[0mrespuesta\u001b[0m\u001b[0;34m,\u001b[0m \u001b[0mimagen\u001b[0m\u001b[0;34m,\u001b[0m \u001b[0mhistorial\u001b[0m \u001b[0;34m=\u001b[0m \u001b[0mgenerar_respuesta_con_imagenes_gemini\u001b[0m\u001b[0;34m(\u001b[0m\u001b[0mquery_text\u001b[0m\u001b[0;34m,\u001b[0m \u001b[0mhistorial\u001b[0m\u001b[0;34m)\u001b[0m\u001b[0;34m\u001b[0m\u001b[0;34m\u001b[0m\u001b[0m\n\u001b[0m\u001b[1;32m    142\u001b[0m         \u001b[0mprint\u001b[0m\u001b[0;34m(\u001b[0m\u001b[0;34mf\"Asistente: {respuesta}\"\u001b[0m\u001b[0;34m)\u001b[0m\u001b[0;34m\u001b[0m\u001b[0;34m\u001b[0m\u001b[0m\n\u001b[1;32m    143\u001b[0m         \u001b[0;32mif\u001b[0m \u001b[0mimagen\u001b[0m\u001b[0;34m:\u001b[0m\u001b[0;34m\u001b[0m\u001b[0;34m\u001b[0m\u001b[0m\n",
      "\u001b[0;32m<ipython-input-30-f1d3ed2df8ee>\u001b[0m in \u001b[0;36mgenerar_respuesta_con_imagenes_gemini\u001b[0;34m(query_text, historial)\u001b[0m\n\u001b[1;32m    112\u001b[0m     \u001b[0mproducto_recomendado\u001b[0m \u001b[0;34m=\u001b[0m \u001b[0;32mNone\u001b[0m\u001b[0;34m\u001b[0m\u001b[0;34m\u001b[0m\u001b[0m\n\u001b[1;32m    113\u001b[0m     \u001b[0;32mfor\u001b[0m \u001b[0m_\u001b[0m\u001b[0;34m,\u001b[0m \u001b[0mrow\u001b[0m \u001b[0;32min\u001b[0m \u001b[0mresultados_bigquery\u001b[0m\u001b[0;34m.\u001b[0m\u001b[0miterrows\u001b[0m\u001b[0;34m(\u001b[0m\u001b[0;34m)\u001b[0m\u001b[0;34m:\u001b[0m\u001b[0;34m\u001b[0m\u001b[0;34m\u001b[0m\u001b[0m\n\u001b[0;32m--> 114\u001b[0;31m         \u001b[0;32mif\u001b[0m \u001b[0mstr\u001b[0m\u001b[0;34m(\u001b[0m\u001b[0mrow\u001b[0m\u001b[0;34m[\u001b[0m\u001b[0;34m'codigo web'\u001b[0m\u001b[0;34m]\u001b[0m\u001b[0;34m)\u001b[0m \u001b[0;32min\u001b[0m \u001b[0mresponse\u001b[0m\u001b[0;34m.\u001b[0m\u001b[0mtext\u001b[0m\u001b[0;34m:\u001b[0m\u001b[0;34m\u001b[0m\u001b[0;34m\u001b[0m\u001b[0m\n\u001b[0m\u001b[1;32m    115\u001b[0m             \u001b[0mproducto_recomendado\u001b[0m \u001b[0;34m=\u001b[0m \u001b[0mrow\u001b[0m\u001b[0;34m[\u001b[0m\u001b[0;34m'codigo web'\u001b[0m\u001b[0;34m]\u001b[0m\u001b[0;34m\u001b[0m\u001b[0;34m\u001b[0m\u001b[0m\n\u001b[1;32m    116\u001b[0m             \u001b[0mimagen_uri\u001b[0m \u001b[0;34m=\u001b[0m \u001b[0mrow\u001b[0m\u001b[0;34m.\u001b[0m\u001b[0mget\u001b[0m\u001b[0;34m(\u001b[0m\u001b[0;34m\"imagen_uri\"\u001b[0m\u001b[0;34m,\u001b[0m \u001b[0;32mNone\u001b[0m\u001b[0;34m)\u001b[0m\u001b[0;34m\u001b[0m\u001b[0;34m\u001b[0m\u001b[0m\n",
      "\u001b[0;32m/usr/local/lib/python3.10/dist-packages/vertexai/generative_models/_generative_models.py\u001b[0m in \u001b[0;36mtext\u001b[0;34m(self)\u001b[0m\n\u001b[1;32m   2207\u001b[0m             \u001b[0;31m# Enrich the error message with the whole Response.\u001b[0m\u001b[0;34m\u001b[0m\u001b[0;34m\u001b[0m\u001b[0m\n\u001b[1;32m   2208\u001b[0m             \u001b[0;31m# The Candidate object does not have full information.\u001b[0m\u001b[0;34m\u001b[0m\u001b[0;34m\u001b[0m\u001b[0m\n\u001b[0;32m-> 2209\u001b[0;31m             raise ValueError(\n\u001b[0m\u001b[1;32m   2210\u001b[0m                 \u001b[0;34m\"Cannot get the response text.\\n\"\u001b[0m\u001b[0;34m\u001b[0m\u001b[0;34m\u001b[0m\u001b[0m\n\u001b[1;32m   2211\u001b[0m                 \u001b[0;34mf\"{e}\\n\"\u001b[0m\u001b[0;34m\u001b[0m\u001b[0;34m\u001b[0m\u001b[0m\n",
      "\u001b[0;31mValueError\u001b[0m: Cannot get the response text.\nCannot get the Candidate text.\nResponse candidate content has no parts (and thus no text). The candidate is likely blocked by the safety filters.\nContent:\n{}\nCandidate:\n{\n  \"finish_reason\": \"SAFETY\",\n  \"safety_ratings\": [\n    {\n      \"category\": \"HARM_CATEGORY_HATE_SPEECH\",\n      \"probability\": \"NEGLIGIBLE\",\n      \"probability_score\": 0.103515625,\n      \"severity\": \"HARM_SEVERITY_NEGLIGIBLE\",\n      \"severity_score\": 0.071777344\n    },\n    {\n      \"category\": \"HARM_CATEGORY_DANGEROUS_CONTENT\",\n      \"probability\": \"NEGLIGIBLE\",\n      \"probability_score\": 0.17675781,\n      \"severity\": \"HARM_SEVERITY_LOW\",\n      \"severity_score\": 0.22363281\n    },\n    {\n      \"category\": \"HARM_CATEGORY_HARASSMENT\",\n      \"probability\": \"NEGLIGIBLE\",\n      \"probability_score\": 0.106933594,\n      \"severity\": \"HARM_SEVERITY_NEGLIGIBLE\",\n      \"severity_score\": 0.056640625\n    },\n    {\n      \"category\": \"HARM_CATEGORY_SEXUALLY_EXPLICIT\",\n      \"probability\": \"HIGH\",\n      \"blocked\": true,\n      \"probability_score\": 0.91796875,\n      \"severity\": \"HARM_SEVERITY_MEDIUM\",\n      \"severity_score\": 0.640625\n    }\n  ]\n}\nResponse:\n{\n  \"candidates\": [\n    {\n      \"finish_reason\": \"SAFETY\",\n      \"safety_ratings\": [\n        {\n          \"category\": \"HARM_CATEGORY_HATE_SPEECH\",\n          \"probability\": \"NEGLIGIBLE\",\n          \"probability_score\": 0.103515625,\n          \"severity\": \"HARM_SEVERITY_NEGLIGIBLE\",\n          \"severity_score\": 0.071777344\n        },\n        {\n          \"category\": \"HARM_CATEGORY_DANGEROUS_CONTENT\",\n          \"probability\": \"NEGLIGIBLE\",\n          \"probability_score\": 0.17675781,\n          \"severity\": \"HARM_SEVERITY_LOW\",\n          \"severity_score\": 0.22363281\n        },\n        {\n          \"category\": \"HARM_CATEGORY_HARASSMENT\",\n          \"probability\": \"NEGLIGIBLE\",\n          \"probability_score\": 0.106933594,\n          \"severity\": \"HARM_SEVERITY_NEGLIGIBLE\",\n          \"severity_score\": 0.056640625\n        },\n        {\n          \"category\": \"HARM_CATEGORY_SEXUALLY_EXPLICIT\",\n          \"probability\": \"HIGH\",\n          \"blocked\": true,\n          \"probability_score\": 0.91796875,\n          \"severity\": \"HARM_SEVERITY_MEDIUM\",\n          \"severity_score\": 0.640625\n        }\n      ]\n    }\n  ],\n  \"usage_metadata\": {\n    \"prompt_token_count\": 1294,\n    \"total_token_count\": 1294\n  },\n  \"model_version\": \"gemini-1.5-flash-001\"\n}"
     ]
    }
   ],
   "source": [
    "# Inicializar el entorno\n",
    "PROJECT_ID = \"dataton-2024-team-13-cofares\"\n",
    "REGION = \"us-central1\"\n",
    "vertexai.init(project=PROJECT_ID, location=REGION)\n",
    "\n",
    "# Inicializar el entorno\n",
    "PROJECT_ID = \"dataton-2024-team-13-cofares\"\n",
    "REGION = \"us-central1\"\n",
    "vertexai.init(project=PROJECT_ID, location=REGION)\n",
    "\n",
    "# Inicializar el modelo generativo\n",
    "generative_model = GenerativeModel(\"gemini-1.5-flash-001\")\n",
    "\n",
    "# Función para descargar imágenes temporalmente\n",
    "def descargar_imagen_de_gcs(gcs_uri, local_path):\n",
    "    \"\"\"Descargar una imagen desde GCS a una ruta local.\"\"\"\n",
    "    from google.cloud import storage\n",
    "    client = storage.Client()\n",
    "    bucket_name, blob_name = gcs_uri.replace(\"gs://\", \"\").split(\"/\", 1)\n",
    "    bucket = client.bucket(bucket_name)\n",
    "    blob = bucket.blob(blob_name)\n",
    "    blob.download_to_filename(local_path)\n",
    "    return local_path\n",
    "\n",
    "from google.cloud import bigquery\n",
    "\n",
    "# Inicializar cliente de BigQuery\n",
    "client = bigquery.Client()\n",
    "\n",
    "def consultar_bigquery(query_text, expandir_busqueda=False):\n",
    "    \"\"\"Consulta BigQuery y devuelve un DataFrame con los productos relevantes.\"\"\"\n",
    "    # Si expandir_busqueda es True, reducimos las restricciones de búsqueda\n",
    "    fraction_lists_to_search = 0.05 if expandir_busqueda else 0.01\n",
    "\n",
    "    query = f\"\"\"\n",
    "    WITH top_results AS (\n",
    "      SELECT\n",
    "        CAST(base.codigo_web AS STRING) AS result_id\n",
    "      FROM VECTOR_SEARCH(\n",
    "        TABLE `dataset_us.embeddings`,\n",
    "        'ml_generate_embedding_result',\n",
    "        (\n",
    "          SELECT ml_generate_embedding_result, content AS query\n",
    "          FROM ML.GENERATE_EMBEDDING(\n",
    "            MODEL `dataset_us.embedding_model`,\n",
    "            (SELECT '{query_text}' AS content))\n",
    "        ),\n",
    "        top_k => 5, options => '{{\"fraction_lists_to_search\": 0.01}}'\n",
    "      )\n",
    "    )\n",
    "    SELECT\n",
    "      original_table.*\n",
    "    FROM `dataset_us.test_table_9k` AS original_table\n",
    "    JOIN top_results\n",
    "    ON REGEXP_EXTRACT(original_table.`codigo web`, r'[0-9]+$') = top_results.result_id;\n",
    "    \"\"\"\n",
    "    # Ejecutar la consulta en BigQuery\n",
    "    query_job = client.query(query)\n",
    "    return query_job.to_dataframe()\n",
    "\n",
    "\n",
    "def generar_respuesta_con_imagenes_gemini(query_text, historial=None):\n",
    "    \"\"\"Genera una respuesta basada en la consulta del usuario y descarga solo la imagen del producto recomendado.\"\"\"\n",
    "    if historial is None:\n",
    "        historial = []\n",
    "\n",
    "    # Añadir la consulta actual al historial\n",
    "    historial.append(f\"Usuario: {query_text}\")\n",
    "\n",
    "    # Consultar BigQuery para obtener productos relevantes\n",
    "    resultados_bigquery = consultar_bigquery(query_text)\n",
    "    # Si hay menos de 3 productos, realizar una nueva consulta con rango ampliado\n",
    "    if len(resultados_bigquery) < 3:\n",
    "        resultados_bigquery = consultar_bigquery(query_text, expandir_busqueda=True)\n",
    "    contexto = \"\"\"\n",
    "Eres un asistente conversacional experto en productos, que ayuda a los usuarios a encontrar opciones basadas en sus necesidades específicas.\n",
    "Mantén un lenguaje natural, fluido y profesional.\n",
    "Recuerda la conversación previa y refina tus respuestas basándote en las preguntas adicionales o nuevos datos del usuario.\n",
    "Si no encuentras información relevante, solicita más detalles al usuario de manera educada.\n",
    "\"\"\"\n",
    "\n",
    "# Agregar historial de interacción\n",
    "    for interaccion in historial:\n",
    "        contexto += f\"\\n{interaccion}\"\n",
    "\n",
    "# Incluir productos relevantes encontrados\n",
    "    contexto += \"\\n\\nProductos relevantes encontrados:\"\n",
    "    for _, row in resultados_bigquery.iterrows():\n",
    "        contexto += f\"\"\"\n",
    "    Producto: {row['nombre del producto']}\n",
    "    Descripción: {row['informacion del producto']}\n",
    "    Composición: {row['composicion']}\n",
    "    Código Web: {row['codigo web']}\n",
    "    ---\"\"\"\n",
    "\n",
    "    pregunta = \"\"\"\n",
    "Basándote en la consulta actual del usuario y el historial previo:\n",
    "1. Responde de manera específica y directa a la pregunta del usuario.\n",
    "2. Si no tienes suficientes datos, muestra las opciones disponibles sin pedir más información adicional.\n",
    "3. Si es necesario, recomienda un producto relevante y explica por qué es adecuado.\n",
    "4. Descartar otros productos solo si es útil para la pregunta actual.\n",
    "5. Si necesitas más información, solicita datos adicionales de forma clara y educada.\n",
    "6. Al final, pregunta: \"¿Es lo que buscabas?\" para fomentar la interacción.\n",
    "\"\"\"\n",
    "\n",
    "\n",
    "\n",
    "    # Generar contenido con el texto\n",
    "    response = generative_model.generate_content([contexto + pregunta])\n",
    "\n",
    "    # Identificar el código web en la respuesta\n",
    "    producto_recomendado = None\n",
    "    for _, row in resultados_bigquery.iterrows():\n",
    "        if str(row['codigo web']) in response.text:\n",
    "            producto_recomendado = row['codigo web']\n",
    "            imagen_uri = row.get(\"imagen_uri\", None)\n",
    "            break\n",
    "\n",
    "    # Descargar la imagen del producto recomendado si existe\n",
    "    imagen_recomendada = None\n",
    "    if producto_recomendado and imagen_uri:\n",
    "        local_path = f\"/tmp/imagen_{producto_recomendado}.jpg\"\n",
    "        try:\n",
    "            descargar_imagen_de_gcs(imagen_uri, local_path)\n",
    "            imagen_recomendada = local_path\n",
    "        except Exception as e:\n",
    "            print(f\"Error al descargar la imagen del producto recomendado ({imagen_uri}): {e}\")\n",
    "\n",
    "\n",
    "    historial.append(f\"Asistente: {response.text}\")\n",
    "\n",
    "\n",
    "    return response.text, imagen_recomendada, historial\n",
    "\n",
    "\n",
    "# Ejemplo de uso interactivo\n",
    "if __name__ == \"__main__\":\n",
    "    historial = []\n",
    "    while True:\n",
    "        query_text = input(\"Usuario: \")\n",
    "        respuesta, imagen, historial = generar_respuesta_con_imagenes_gemini(query_text, historial)\n",
    "        print(f\"Asistente: {respuesta}\")\n",
    "        if imagen:\n",
    "            print(f\"Imagen recomendada guardada en: {imagen}\")\n"
   ]
  },
  {
   "cell_type": "code",
   "execution_count": 21,
   "metadata": {
    "colab": {
     "base_uri": "https://localhost:8080/",
     "height": 1000
    },
    "executionInfo": {
     "elapsed": 21133,
     "status": "ok",
     "timestamp": 1732198632535,
     "user": {
      "displayName": "",
      "userId": ""
     },
     "user_tz": -60
    },
    "id": "YQk8nzMsDbfY",
    "outputId": "e2662826-1d74-4a4a-dceb-04f00d6aab33"
   },
   "outputs": [
    {
     "name": "stdout",
     "output_type": "stream",
     "text": [
      "pasta de dientes para niños alergicos al fluor\n",
      "Entiendo que buscas una pasta de dientes para niños alérgicos al flúor. De los productos que encontré, te recomiendo **Fluocaril Gel Kids Fresa 50 ml** (Código Web: 196329). \n",
      "\n",
      "Este producto es ideal porque está **especialmente formulado para niños de 2 a 6 años** y además **no contiene flúor**, lo que lo hace perfecto para niños con alergia a este componente.  \n",
      "\n",
      "Descarto los demás productos por las siguientes razones:\n",
      "\n",
      "* **Farline Pasta Encías 125 ml:** Contiene fluoruro sódico en su composición, por lo que no es adecuado para niños alérgicos.\n",
      "* **Fluor Kin Pasta Fresa 75 ml:** También contiene fluoruro sódico, por lo que no es una opción viable.\n",
      "* **Lacer Oros Fluor Pasta 125 ml:**  Contiene fluoruro sódico y monofluorofosfato sódico, por lo que tampoco es adecuado.\n",
      "* **Gum Kids Pasta Fresa 50 ml:**  Aunque está formulado para niños, contiene fluoruro sódico, por lo que no es apto para niños con alergia a este componente.\n",
      "\n",
      "Espero que esta información te sea útil. \n",
      "\n"
     ]
    },
    {
     "data": {
      "image/jpeg": "[encoded data removed]",
      "text/plain": [
       "<IPython.core.display.Image object>"
      ]
     },
     "metadata": {},
     "output_type": "display_data"
    }
   ],
   "source": [
    "respuesta_modelo, imagen_recomendada = generar_respuesta_con_imagenes_gemini(input())\n",
    "\n",
    "# Mostrar la respuesta\n",
    "print(respuesta_modelo)\n",
    "\n",
    "# Mostrar la imagen correspondiente al producto recomendado\n",
    "if imagen_recomendada:\n",
    "        display(IPImage(filename=imagen_recomendada))\n",
    "else:\n",
    "        print(\"No hay imagen disponible para el producto recomendado.\")\n"
   ]
  }
 ],
 "metadata": {
  "colab": {
   "cell_execution_strategy": "setup",
   "name": "conversacional_TEMPORAL_entrega_5",
   "provenance": []
  },
  "kernelspec": {
   "display_name": "Python 3",
   "name": "python3"
  },
  "language_info": {
   "name": "python"
  }
 },
 "nbformat": 4,
 "nbformat_minor": 0
}
